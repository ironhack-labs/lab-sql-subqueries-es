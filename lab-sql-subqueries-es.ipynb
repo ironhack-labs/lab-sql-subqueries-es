{
 "cells": [
  {
   "cell_type": "markdown",
   "metadata": {},
   "source": [
    "### 1. ¿Cuántas copias de la película El Jorobado Imposible existen en el sistema de inventario?"
   ]
  },
  {
   "cell_type": "code",
   "execution_count": null,
   "metadata": {
    "vscode": {
     "languageId": "sql"
    }
   },
   "outputs": [],
   "source": [
    "SELECT COUNT(*) AS total_copies\n",
    "FROM inventory i\n",
    "JOIN film f ON i.film_id = f.film_id\n",
    "WHERE f.title = 'HUNCHBACK IMPOSSIBLE';"
   ]
  },
  {
   "cell_type": "markdown",
   "metadata": {},
   "source": [
    "### 2. Lista todas las películas cuya duración sea mayor que el promedio de todas las películas."
   ]
  },
  {
   "cell_type": "code",
   "execution_count": null,
   "metadata": {
    "vscode": {
     "languageId": "sql"
    }
   },
   "outputs": [],
   "source": [
    "SELECT AVG(length) AS average_length\n",
    "FROM film;\n",
    "\n",
    "SELECT title, length\n",
    "FROM film\n",
    "WHERE length > 115.2720;"
   ]
  },
  {
   "cell_type": "markdown",
   "metadata": {},
   "source": [
    "### 3. Usa subconsultas para mostrar todos los actores que aparecen en la película Viaje Solo."
   ]
  },
  {
   "cell_type": "code",
   "execution_count": null,
   "metadata": {
    "vscode": {
     "languageId": "sql"
    }
   },
   "outputs": [],
   "source": [
    "SELECT a.actor_id, a.first_name, a.last_name\n",
    "FROM actor a\n",
    "WHERE a.actor_id IN (\n",
    "    SELECT fa.actor_id\n",
    "    FROM film_actor fa\n",
    "    WHERE fa.film_id = (\n",
    "        SELECT f.film_id\n",
    "        FROM film f\n",
    "        WHERE f.title = 'ALONE TRIP'\n",
    "    )\n",
    ");"
   ]
  },
  {
   "cell_type": "markdown",
   "metadata": {},
   "source": [
    "### 4. Las ventas han estado disminuyendo entre las familias jóvenes, y deseas dirigir todas las películas familiares a una promoción. Identifica todas las películas categorizadas como películas familiares.\n"
   ]
  },
  {
   "cell_type": "code",
   "execution_count": null,
   "metadata": {
    "vscode": {
     "languageId": "sql"
    }
   },
   "outputs": [],
   "source": [
    "SELECT category_id, name\n",
    "FROM category;\n",
    "\n",
    "SELECT f.film_id, f.title\n",
    "FROM film f\n",
    "JOIN film_category fc ON f.film_id = fc.film_id\n",
    "JOIN category c ON fc.category_id = c.category_id\n",
    "WHERE c.name = 'Family';"
   ]
  },
  {
   "cell_type": "markdown",
   "metadata": {},
   "source": [
    "### 5. Obtén el nombre y correo electrónico de los clientes de Canadá usando subconsultas. Haz lo mismo con uniones. Ten en cuenta que para crear una unión, tendrás que identificar las tablas correctas con sus claves primarias y claves foráneas, que te ayudarán a obtener la información relevante."
   ]
  },
  {
   "cell_type": "code",
   "execution_count": null,
   "metadata": {
    "vscode": {
     "languageId": "sql"
    }
   },
   "outputs": [],
   "source": [
    "SELECT first_name, last_name, email\n",
    "FROM customer\n",
    "WHERE address_id IN (\n",
    "    SELECT address_id\n",
    "    FROM address\n",
    "    WHERE city_id IN (\n",
    "        SELECT city_id\n",
    "        FROM city\n",
    "        WHERE country_id = (\n",
    "            SELECT country_id\n",
    "            FROM country\n",
    "            WHERE country = 'Canada'\n",
    "        )\n",
    "    )\n",
    ");\n",
    "\n",
    "SELECT c.first_name, c.last_name, c.email\n",
    "FROM customer c\n",
    "JOIN address a ON c.address_id = a.address_id\n",
    "JOIN city ci ON a.city_id = ci.city_id\n",
    "JOIN country co ON ci.country_id = co.country_id\n",
    "WHERE co.country = 'Canada';"
   ]
  },
  {
   "cell_type": "markdown",
   "metadata": {},
   "source": [
    "### 6. ¿Cuáles son las películas protagonizadas por el actor más prolífico? El actor más prolífico se define como el actor que ha actuado en el mayor número de películas. Primero tendrás que encontrar al actor más prolífico y luego usar ese actor_id para encontrar las diferentes películas en las que ha protagonizado."
   ]
  },
  {
   "cell_type": "code",
   "execution_count": null,
   "metadata": {
    "vscode": {
     "languageId": "sql"
    }
   },
   "outputs": [],
   "source": [
    "SELECT actor_id, COUNT(*) AS total_films\n",
    "FROM film_actor\n",
    "GROUP BY actor_id\n",
    "ORDER BY total_films DESC\n",
    "LIMIT 1;\n",
    "\n",
    "SELECT first_name, last_name\n",
    "FROM actor\n",
    "WHERE actor_id = 107;\n",
    "\n",
    "SELECT f.title\n",
    "FROM film f\n",
    "JOIN film_actor fa ON f.film_id = fa.film_id\n",
    "WHERE fa.actor_id = (107);"
   ]
  },
  {
   "cell_type": "markdown",
   "metadata": {},
   "source": [
    "### 7. Películas alquiladas por el cliente más rentable. Puedes usar la tabla de clientes y la tabla de pagos para encontrar al cliente más rentable, es decir, el cliente que ha realizado la mayor suma de pagos."
   ]
  },
  {
   "cell_type": "code",
   "execution_count": null,
   "metadata": {
    "vscode": {
     "languageId": "sql"
    }
   },
   "outputs": [],
   "source": [
    "SELECT customer_id, SUM(amount) AS total_payments\n",
    "FROM payment\n",
    "GROUP BY customer_id\n",
    "ORDER BY total_payments DESC\n",
    "LIMIT 1;\n",
    "\n",
    "SELECT first_name, last_name\n",
    "FROM customer\n",
    "WHERE customer_id = 526;\n",
    "\n",
    "SELECT f.title\n",
    "FROM film f\n",
    "JOIN inventory i ON f.film_id = i.film_id\n",
    "JOIN rental r ON i.inventory_id = r.inventory_id\n",
    "JOIN customer c ON r.customer_id = c.customer_id\n",
    "WHERE c.customer_id = (526);"
   ]
  },
  {
   "cell_type": "markdown",
   "metadata": {},
   "source": [
    "### 8. Obtén el client_id y el total_amount_spent de esos clientes que gastaron más que el promedio del total_amount gastado por cada cliente"
   ]
  },
  {
   "cell_type": "code",
   "execution_count": null,
   "metadata": {
    "vscode": {
     "languageId": "sql"
    }
   },
   "outputs": [],
   "source": [
    "SELECT customer_id, SUM(amount) AS total_amount_spent\n",
    "FROM payment\n",
    "GROUP BY customer_id\n",
    "HAVING SUM(amount) > (\n",
    "    SELECT AVG(total_amount)\n",
    "    FROM (\n",
    "        SELECT SUM(amount) AS total_amount\n",
    "        FROM payment\n",
    "        GROUP BY customer_id\n",
    "    ) AS average_amount\n",
    ");"
   ]
  }
 ],
 "metadata": {
  "kernelspec": {
   "display_name": "Python 3.12.4 64-bit",
   "language": "python",
   "name": "python3"
  },
  "language_info": {
   "name": "python",
   "version": "3.12.4"
  },
  "orig_nbformat": 4,
  "vscode": {
   "interpreter": {
    "hash": "b0fa6594d8f4cbf19f97940f81e996739fb7646882a419484c72d19e05852a7e"
   }
  }
 },
 "nbformat": 4,
 "nbformat_minor": 2
}
